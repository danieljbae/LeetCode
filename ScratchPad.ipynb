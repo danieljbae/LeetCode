{
 "cells": [
  {
   "cell_type": "code",
   "execution_count": 1,
   "metadata": {
    "ExecuteTime": {
     "end_time": "2020-08-14T06:47:13.758171Z",
     "start_time": "2020-08-14T06:47:13.735721Z"
    }
   },
   "outputs": [
    {
     "data": {
      "text/plain": [
       "17"
      ]
     },
     "execution_count": 1,
     "metadata": {},
     "output_type": "execute_result"
    }
   ],
   "source": [
    "s = \"Mr John Smith    \"\n",
    "len(s)"
   ]
  },
  {
   "cell_type": "code",
   "execution_count": 5,
   "metadata": {
    "ExecuteTime": {
     "end_time": "2020-08-14T06:49:16.164929Z",
     "start_time": "2020-08-14T06:49:16.154524Z"
    }
   },
   "outputs": [
    {
     "name": "stdout",
     "output_type": "stream",
     "text": [
      "Mr%20John%20Smith\n"
     ]
    }
   ],
   "source": [
    "url_s = []\n",
    "for i in range(13):\n",
    "    if s[i] != \" \":\n",
    "        url_s.append(s[i])\n",
    "    else:\n",
    "        url_s.append(\"%20\")\n",
    "print(\"\".join(url_s))"
   ]
  },
  {
   "cell_type": "code",
   "execution_count": 8,
   "metadata": {
    "ExecuteTime": {
     "end_time": "2020-08-14T08:01:39.997579Z",
     "start_time": "2020-08-14T08:01:39.988594Z"
    }
   },
   "outputs": [
    {
     "name": "stdout",
     "output_type": "stream",
     "text": [
      "1\n",
      "2\n",
      "3\n",
      "4\n"
     ]
    }
   ],
   "source": [
    "s = \"s s s s \"\n",
    "count = 0 \n",
    "for c in s:\n",
    "    if not c.isalpha():\n",
    "        count += 1 \n",
    "        print(count)"
   ]
  },
  {
   "cell_type": "code",
   "execution_count": 13,
   "metadata": {
    "ExecuteTime": {
     "end_time": "2020-08-14T08:07:14.581878Z",
     "start_time": "2020-08-14T08:07:14.566254Z"
    }
   },
   "outputs": [
    {
     "name": "stdout",
     "output_type": "stream",
     "text": [
      "3\n",
      "1\n"
     ]
    }
   ],
   "source": [
    "dic = {\"h\":3,\"e\":1}\n",
    "\n",
    "for val in dic.values():\n",
    "    print(val)"
   ]
  },
  {
   "cell_type": "code",
   "execution_count": 21,
   "metadata": {
    "ExecuteTime": {
     "end_time": "2020-08-14T08:42:33.716937Z",
     "start_time": "2020-08-14T08:42:33.708970Z"
    }
   },
   "outputs": [
    {
     "data": {
      "text/plain": [
       "{'a': 10, 'b': 20, 'c': 30, 'd': 40, 'e': 50}"
      ]
     },
     "execution_count": 21,
     "metadata": {},
     "output_type": "execute_result"
    }
   ],
   "source": [
    "keys = ['a','b','c','d','e'] \n",
    "values = [1,2,3,4,5]   \n",
    "\n",
    "my_dict = {key:val*10 for (key,val) in zip(keys,values)}\n",
    "my_dict"
   ]
  },
  {
   "cell_type": "code",
   "execution_count": null,
   "metadata": {},
   "outputs": [],
   "source": []
  },
  {
   "cell_type": "code",
   "execution_count": null,
   "metadata": {},
   "outputs": [],
   "source": []
  },
  {
   "cell_type": "code",
   "execution_count": null,
   "metadata": {},
   "outputs": [],
   "source": []
  },
  {
   "cell_type": "code",
   "execution_count": null,
   "metadata": {},
   "outputs": [],
   "source": []
  },
  {
   "cell_type": "code",
   "execution_count": null,
   "metadata": {},
   "outputs": [],
   "source": []
  },
  {
   "cell_type": "markdown",
   "metadata": {},
   "source": [
    "# Neet Python Tricks"
   ]
  },
  {
   "cell_type": "markdown",
   "metadata": {},
   "source": [
    "## zip() - Paralell Looping \n",
    "- i_str1\n",
    "- i_str2"
   ]
  },
  {
   "cell_type": "code",
   "execution_count": 30,
   "metadata": {
    "ExecuteTime": {
     "end_time": "2020-08-22T03:54:38.207774Z",
     "start_time": "2020-08-22T03:54:38.183833Z"
    }
   },
   "outputs": [
    {
     "name": "stdout",
     "output_type": "stream",
     "text": [
      "('1_ls1', '1_ls2')\n",
      "('2_ls1', '2_ls2')\n",
      "('3_ls1', '3_ls2')\n",
      "('4_ls1', '4_ls2')\n",
      "('5_ls1', '5_ls2')\n"
     ]
    }
   ],
   "source": [
    "strs = ['1_ls1','2_ls1','3_ls1','4_ls1','5_ls1' ]\n",
    "strs2 = ['1_ls2','2_ls2','3_ls2','4_ls2','5_ls2' ]\n",
    "\n",
    "for x in zip(strs,strs2):\n",
    "    print(x)"
   ]
  },
  {
   "cell_type": "markdown",
   "metadata": {},
   "source": [
    "## * operator - Unpacks lists\n",
    "-  deliminated by space \" \""
   ]
  },
  {
   "cell_type": "code",
   "execution_count": 36,
   "metadata": {
    "ExecuteTime": {
     "end_time": "2020-08-22T04:01:55.232182Z",
     "start_time": "2020-08-22T04:01:55.224933Z"
    }
   },
   "outputs": [
    {
     "name": "stdout",
     "output_type": "stream",
     "text": [
      "hello world my name is daniel\n"
     ]
    }
   ],
   "source": [
    "strs = [\"hello\", \"world\", \"my\", \"name\", \"is\", \"daniel\"]\n",
    "\n",
    "print(*strs)"
   ]
  },
  {
   "cell_type": "markdown",
   "metadata": {},
   "source": [
    "## "
   ]
  },
  {
   "cell_type": "code",
   "execution_count": 42,
   "metadata": {
    "ExecuteTime": {
     "end_time": "2020-08-22T04:07:56.590868Z",
     "start_time": "2020-08-22T04:07:56.578392Z"
    }
   },
   "outputs": [
    {
     "name": "stdout",
     "output_type": "stream",
     "text": [
      "hw eo lr ll od\n",
      "('hw',)\n",
      "('eo',)\n",
      "('lr',)\n",
      "('ll',)\n",
      "('od',)\n"
     ]
    }
   ],
   "source": [
    "strs = ['hw','eo','lr','ll','od' ]\n",
    "\n",
    "print(*strs)\n",
    "\n",
    "for x in zip(strs):\n",
    "    print(x)"
   ]
  },
  {
   "cell_type": "code",
   "execution_count": 43,
   "metadata": {
    "ExecuteTime": {
     "end_time": "2020-08-22T04:15:51.641616Z",
     "start_time": "2020-08-22T04:15:51.618678Z"
    }
   },
   "outputs": [
    {
     "data": {
      "text/plain": [
       "0"
      ]
     },
     "execution_count": 43,
     "metadata": {},
     "output_type": "execute_result"
    }
   ],
   "source": [
    "len([])\n"
   ]
  },
  {
   "cell_type": "code",
   "execution_count": 44,
   "metadata": {
    "ExecuteTime": {
     "end_time": "2020-08-22T04:24:01.633935Z",
     "start_time": "2020-08-22T04:24:01.606967Z"
    }
   },
   "outputs": [],
   "source": [
    "edge = []\n",
    "for x in zip(*edge):\n",
    "    print(x)\n",
    "    "
   ]
  }
 ],
 "metadata": {
  "kernelspec": {
   "display_name": "Python 3",
   "language": "python",
   "name": "python3"
  },
  "language_info": {
   "codemirror_mode": {
    "name": "ipython",
    "version": 3
   },
   "file_extension": ".py",
   "mimetype": "text/x-python",
   "name": "python",
   "nbconvert_exporter": "python",
   "pygments_lexer": "ipython3",
   "version": "3.7.3"
  },
  "toc": {
   "base_numbering": 1,
   "nav_menu": {},
   "number_sections": true,
   "sideBar": true,
   "skip_h1_title": false,
   "title_cell": "Table of Contents",
   "title_sidebar": "Contents",
   "toc_cell": false,
   "toc_position": {},
   "toc_section_display": true,
   "toc_window_display": true
  }
 },
 "nbformat": 4,
 "nbformat_minor": 4
}
